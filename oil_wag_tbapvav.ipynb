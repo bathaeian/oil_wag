{
  "nbformat": 4,
  "nbformat_minor": 0,
  "metadata": {
    "colab": {
      "provenance": [],
      "authorship_tag": "ABX9TyM+GFIym1RrykD/tGDKt8Zi",
      "include_colab_link": true
    },
    "kernelspec": {
      "name": "python3",
      "display_name": "Python 3"
    },
    "language_info": {
      "name": "python"
    }
  },
  "cells": [
    {
      "cell_type": "markdown",
      "metadata": {
        "id": "view-in-github",
        "colab_type": "text"
      },
      "source": [
        "<a href=\"https://colab.research.google.com/github/bathaeian/oil_wag/blob/main/oil_wag_tbapvav.ipynb\" target=\"_parent\"><img src=\"https://colab.research.google.com/assets/colab-badge.svg\" alt=\"Open In Colab\"/></a>"
      ]
    },
    {
      "cell_type": "code",
      "source": [
        "from google.colab import drive\n",
        "drive.mount('/content/drive')\n"
      ],
      "metadata": {
        "colab": {
          "base_uri": "https://localhost:8080/"
        },
        "id": "fFXsUFXSYx9o",
        "outputId": "adf728ad-3acc-4903-ddda-42c740ff62ef"
      },
      "execution_count": 1,
      "outputs": [
        {
          "output_type": "stream",
          "name": "stdout",
          "text": [
            "Mounted at /content/drive\n"
          ]
        }
      ]
    },
    {
      "cell_type": "code",
      "execution_count": 2,
      "metadata": {
        "colab": {
          "base_uri": "https://localhost:8080/"
        },
        "id": "pkFIFiNMhYra",
        "outputId": "e02baa92-840d-4f98-e0d6-801d3ae81b27"
      },
      "outputs": [
        {
          "output_type": "stream",
          "name": "stdout",
          "text": [
            "     lab1  lab2     d0tba     d4tba   d8tba    d12tba      d0pv      d4pv  \\\n",
            "0     wal   200  138.0000  389.0000  450.00  560.0000  14.56000  16.80000   \n",
            "1     wal   400  123.0000  350.0000  370.00  467.0000  15.56000  21.07000   \n",
            "2     wal   800  140.0000  230.0000  256.00  302.0000  13.48000  15.62000   \n",
            "3   grape   200  354.5000  436.5000  585.75  433.0000  17.78000  19.92000   \n",
            "4   grape   400  197.0000  427.7500  537.25  365.5000  17.98000  25.13000   \n",
            "5   grape   800  265.0000  345.2500  479.00  346.7500  18.12000  16.41000   \n",
            "6     alm   200  243.5000  282.5000  327.75  502.5000  16.98000  17.24000   \n",
            "7     alm   400  190.7500  280.0000  291.75  413.7500  17.11000  19.19000   \n",
            "8     alm   800  189.0000  198.0000  253.00  397.2500  17.32000  20.15000   \n",
            "9    none     0  119.8333  440.0000  573.25  733.5833  17.42667  24.73333   \n",
            "10  ttbhq  1000  149.7500  268.0833  348.00  400.1667  16.83667  21.95000   \n",
            "\n",
            "        d8pv     d12pv  d0av      d4av      d8av     d12av  \n",
            "0   19.40000  29.31000  0.15  0.330000  0.780000  1.200000  \n",
            "1   11.94000  23.88000  0.15  0.230000  0.640000  0.990000  \n",
            "2   17.87000  32.73000  0.18  0.210000  0.540000  0.740000  \n",
            "3   24.80000  32.81000  0.15  0.530000  0.880000  1.500000  \n",
            "4   19.34000  27.84000  0.15  0.330000  0.640000  1.200000  \n",
            "5   14.99000  29.97000  0.18  0.210000  0.540000  0.940000  \n",
            "6    8.61000  27.66000  0.15  0.430000  0.780000  1.200000  \n",
            "7    9.90000  20.56000  0.15  0.210000  0.440000  0.890000  \n",
            "8   10.58000  24.51000  0.18  0.200000  0.340000  0.640000  \n",
            "9   29.28667  34.35000  0.20  0.700000  1.633333  2.000000  \n",
            "10  19.49667  26.78333  0.14  0.373333  0.813333  1.186667  \n"
          ]
        }
      ],
      "source": [
        "import pandas as pd\n",
        "df1 = pd.read_excel('/content/drive/MyDrive/oil_wag/tbapvav.xlsx')\n",
        "print(df1)\n"
      ]
    },
    {
      "cell_type": "code",
      "source": [
        "df2= df1.filter(like='d')\n",
        "print(df2)\n",
        "print(df2.describe())\n",
        "from sklearn.preprocessing import StandardScaler\n",
        "scaler = StandardScaler()\n",
        "data_scaled = scaler.fit_transform(df2)\n",
        "\n",
        "# statistics of scaled data\n",
        "pd.DataFrame(data_scaled).describe()"
      ],
      "metadata": {
        "colab": {
          "base_uri": "https://localhost:8080/",
          "height": 1000
        },
        "id": "pKV9jTkvw2Ls",
        "outputId": "5a8e4d2c-2255-40bd-f7bd-042cf278ef12"
      },
      "execution_count": 3,
      "outputs": [
        {
          "output_type": "stream",
          "name": "stdout",
          "text": [
            "       d0tba     d4tba   d8tba    d12tba      d0pv      d4pv      d8pv  \\\n",
            "0   138.0000  389.0000  450.00  560.0000  14.56000  16.80000  19.40000   \n",
            "1   123.0000  350.0000  370.00  467.0000  15.56000  21.07000  11.94000   \n",
            "2   140.0000  230.0000  256.00  302.0000  13.48000  15.62000  17.87000   \n",
            "3   354.5000  436.5000  585.75  433.0000  17.78000  19.92000  24.80000   \n",
            "4   197.0000  427.7500  537.25  365.5000  17.98000  25.13000  19.34000   \n",
            "5   265.0000  345.2500  479.00  346.7500  18.12000  16.41000  14.99000   \n",
            "6   243.5000  282.5000  327.75  502.5000  16.98000  17.24000   8.61000   \n",
            "7   190.7500  280.0000  291.75  413.7500  17.11000  19.19000   9.90000   \n",
            "8   189.0000  198.0000  253.00  397.2500  17.32000  20.15000  10.58000   \n",
            "9   119.8333  440.0000  573.25  733.5833  17.42667  24.73333  29.28667   \n",
            "10  149.7500  268.0833  348.00  400.1667  16.83667  21.95000  19.49667   \n",
            "\n",
            "       d12pv  d0av      d4av      d8av     d12av  \n",
            "0   29.31000  0.15  0.330000  0.780000  1.200000  \n",
            "1   23.88000  0.15  0.230000  0.640000  0.990000  \n",
            "2   32.73000  0.18  0.210000  0.540000  0.740000  \n",
            "3   32.81000  0.15  0.530000  0.880000  1.500000  \n",
            "4   27.84000  0.15  0.330000  0.640000  1.200000  \n",
            "5   29.97000  0.18  0.210000  0.540000  0.940000  \n",
            "6   27.66000  0.15  0.430000  0.780000  1.200000  \n",
            "7   20.56000  0.15  0.210000  0.440000  0.890000  \n",
            "8   24.51000  0.18  0.200000  0.340000  0.640000  \n",
            "9   34.35000  0.20  0.700000  1.633333  2.000000  \n",
            "10  26.78333  0.14  0.373333  0.813333  1.186667  \n",
            "            d0tba       d4tba       d8tba      d12tba       d0pv       d4pv  \\\n",
            "count   11.000000   11.000000   11.000000   11.000000  11.000000  11.000000   \n",
            "mean   191.848482  331.553027  406.522727  447.409091  16.650304  19.837575   \n",
            "std     71.970067   85.497527  124.304588  119.190894   1.490613   3.224804   \n",
            "min    119.833300  198.000000  253.000000  302.000000  13.480000  15.620000   \n",
            "25%    139.000000  274.041650  309.750000  381.375000  16.198335  17.020000   \n",
            "50%    189.000000  345.250000  370.000000  413.750000  17.110000  19.920000   \n",
            "75%    220.250000  408.375000  508.125000  484.750000  17.603335  21.510000   \n",
            "max    354.500000  440.000000  585.750000  733.583300  18.120000  25.130000   \n",
            "\n",
            "            d8pv      d12pv       d0av       d4av       d8av      d12av  \n",
            "count  11.000000  11.000000  11.000000  11.000000  11.000000  11.000000  \n",
            "mean   16.928485  28.218485   0.161818   0.341212   0.729697   1.135152  \n",
            "std     6.493336   4.207529   0.019400   0.160466   0.342791   0.376420  \n",
            "min     8.610000  20.560000   0.140000   0.200000   0.340000   0.640000  \n",
            "25%    11.260000  25.646665   0.150000   0.210000   0.540000   0.915000  \n",
            "50%    17.870000  27.840000   0.150000   0.330000   0.640000   1.186667  \n",
            "75%    19.448335  31.350000   0.180000   0.401667   0.796666   1.200000  \n",
            "max    29.286670  34.350000   0.200000   0.700000   1.633333   2.000000  \n"
          ]
        },
        {
          "output_type": "execute_result",
          "data": {
            "text/plain": [
              "                 0             1             2             3             4   \\\n",
              "count  1.100000e+01  1.100000e+01  1.100000e+01  1.100000e+01  1.100000e+01   \n",
              "mean  -5.046468e-16 -5.652044e-16  1.766264e-16 -2.018587e-16  1.619916e-15   \n",
              "std    1.048809e+00  1.048809e+00  1.048809e+00  1.048809e+00  1.048809e+00   \n",
              "min   -1.049466e+00 -1.638312e+00 -1.295334e+00 -1.279513e+00 -2.230655e+00   \n",
              "25%   -7.701529e-01 -7.054992e-01 -8.165112e-01 -5.810607e-01 -3.180093e-01   \n",
              "50%   -4.151049e-02  1.680225e-01 -3.081572e-01 -2.961799e-01  3.234466e-01   \n",
              "75%    4.138910e-01  9.423847e-01  8.572601e-01  3.285778e-01  6.705617e-01   \n",
              "max    2.370296e+00  1.330333e+00  1.512214e+00  2.518163e+00  1.034092e+00   \n",
              "\n",
              "                 5             6             7             8             9   \\\n",
              "count  1.100000e+01  1.100000e+01  1.100000e+01  1.100000e+01  1.100000e+01   \n",
              "mean  -1.413011e-16 -1.816729e-16  3.179275e-16  5.046468e-16 -5.197862e-16   \n",
              "std    1.048809e+00  1.048809e+00  1.048809e+00  1.048809e+00  1.048809e+00   \n",
              "min   -1.371690e+00 -1.343609e+00 -1.909027e+00 -1.179536e+00 -9.229621e-01   \n",
              "25%   -9.163651e-01 -9.155784e-01 -6.410763e-01 -6.389151e-01 -8.576021e-01   \n",
              "50%    2.680708e-02  1.520742e-01 -9.434467e-02 -6.389151e-01 -7.328222e-02   \n",
              "75%    5.439257e-01  4.070082e-01  7.805915e-01  9.829464e-01  3.951300e-01   \n",
              "max    1.721265e+00  1.996104e+00  1.528400e+00  2.064187e+00  2.345038e+00   \n",
              "\n",
              "                 10            11  \n",
              "count  1.100000e+01  1.100000e+01  \n",
              "mean  -4.541821e-17 -3.608225e-16  \n",
              "std    1.048809e+00  1.048809e+00  \n",
              "min   -1.192324e+00 -1.379628e+00  \n",
              "25%   -5.804004e-01 -6.134025e-01  \n",
              "50%   -2.744384e-01  1.435362e-01  \n",
              "75%    2.049015e-01  1.806856e-01  \n",
              "max    2.764783e+00  2.409705e+00  "
            ],
            "text/html": [
              "\n",
              "  <div id=\"df-0bcd471a-1e8f-43b1-8950-1e9f42c781a2\" class=\"colab-df-container\">\n",
              "    <div>\n",
              "<style scoped>\n",
              "    .dataframe tbody tr th:only-of-type {\n",
              "        vertical-align: middle;\n",
              "    }\n",
              "\n",
              "    .dataframe tbody tr th {\n",
              "        vertical-align: top;\n",
              "    }\n",
              "\n",
              "    .dataframe thead th {\n",
              "        text-align: right;\n",
              "    }\n",
              "</style>\n",
              "<table border=\"1\" class=\"dataframe\">\n",
              "  <thead>\n",
              "    <tr style=\"text-align: right;\">\n",
              "      <th></th>\n",
              "      <th>0</th>\n",
              "      <th>1</th>\n",
              "      <th>2</th>\n",
              "      <th>3</th>\n",
              "      <th>4</th>\n",
              "      <th>5</th>\n",
              "      <th>6</th>\n",
              "      <th>7</th>\n",
              "      <th>8</th>\n",
              "      <th>9</th>\n",
              "      <th>10</th>\n",
              "      <th>11</th>\n",
              "    </tr>\n",
              "  </thead>\n",
              "  <tbody>\n",
              "    <tr>\n",
              "      <th>count</th>\n",
              "      <td>1.100000e+01</td>\n",
              "      <td>1.100000e+01</td>\n",
              "      <td>1.100000e+01</td>\n",
              "      <td>1.100000e+01</td>\n",
              "      <td>1.100000e+01</td>\n",
              "      <td>1.100000e+01</td>\n",
              "      <td>1.100000e+01</td>\n",
              "      <td>1.100000e+01</td>\n",
              "      <td>1.100000e+01</td>\n",
              "      <td>1.100000e+01</td>\n",
              "      <td>1.100000e+01</td>\n",
              "      <td>1.100000e+01</td>\n",
              "    </tr>\n",
              "    <tr>\n",
              "      <th>mean</th>\n",
              "      <td>-5.046468e-16</td>\n",
              "      <td>-5.652044e-16</td>\n",
              "      <td>1.766264e-16</td>\n",
              "      <td>-2.018587e-16</td>\n",
              "      <td>1.619916e-15</td>\n",
              "      <td>-1.413011e-16</td>\n",
              "      <td>-1.816729e-16</td>\n",
              "      <td>3.179275e-16</td>\n",
              "      <td>5.046468e-16</td>\n",
              "      <td>-5.197862e-16</td>\n",
              "      <td>-4.541821e-17</td>\n",
              "      <td>-3.608225e-16</td>\n",
              "    </tr>\n",
              "    <tr>\n",
              "      <th>std</th>\n",
              "      <td>1.048809e+00</td>\n",
              "      <td>1.048809e+00</td>\n",
              "      <td>1.048809e+00</td>\n",
              "      <td>1.048809e+00</td>\n",
              "      <td>1.048809e+00</td>\n",
              "      <td>1.048809e+00</td>\n",
              "      <td>1.048809e+00</td>\n",
              "      <td>1.048809e+00</td>\n",
              "      <td>1.048809e+00</td>\n",
              "      <td>1.048809e+00</td>\n",
              "      <td>1.048809e+00</td>\n",
              "      <td>1.048809e+00</td>\n",
              "    </tr>\n",
              "    <tr>\n",
              "      <th>min</th>\n",
              "      <td>-1.049466e+00</td>\n",
              "      <td>-1.638312e+00</td>\n",
              "      <td>-1.295334e+00</td>\n",
              "      <td>-1.279513e+00</td>\n",
              "      <td>-2.230655e+00</td>\n",
              "      <td>-1.371690e+00</td>\n",
              "      <td>-1.343609e+00</td>\n",
              "      <td>-1.909027e+00</td>\n",
              "      <td>-1.179536e+00</td>\n",
              "      <td>-9.229621e-01</td>\n",
              "      <td>-1.192324e+00</td>\n",
              "      <td>-1.379628e+00</td>\n",
              "    </tr>\n",
              "    <tr>\n",
              "      <th>25%</th>\n",
              "      <td>-7.701529e-01</td>\n",
              "      <td>-7.054992e-01</td>\n",
              "      <td>-8.165112e-01</td>\n",
              "      <td>-5.810607e-01</td>\n",
              "      <td>-3.180093e-01</td>\n",
              "      <td>-9.163651e-01</td>\n",
              "      <td>-9.155784e-01</td>\n",
              "      <td>-6.410763e-01</td>\n",
              "      <td>-6.389151e-01</td>\n",
              "      <td>-8.576021e-01</td>\n",
              "      <td>-5.804004e-01</td>\n",
              "      <td>-6.134025e-01</td>\n",
              "    </tr>\n",
              "    <tr>\n",
              "      <th>50%</th>\n",
              "      <td>-4.151049e-02</td>\n",
              "      <td>1.680225e-01</td>\n",
              "      <td>-3.081572e-01</td>\n",
              "      <td>-2.961799e-01</td>\n",
              "      <td>3.234466e-01</td>\n",
              "      <td>2.680708e-02</td>\n",
              "      <td>1.520742e-01</td>\n",
              "      <td>-9.434467e-02</td>\n",
              "      <td>-6.389151e-01</td>\n",
              "      <td>-7.328222e-02</td>\n",
              "      <td>-2.744384e-01</td>\n",
              "      <td>1.435362e-01</td>\n",
              "    </tr>\n",
              "    <tr>\n",
              "      <th>75%</th>\n",
              "      <td>4.138910e-01</td>\n",
              "      <td>9.423847e-01</td>\n",
              "      <td>8.572601e-01</td>\n",
              "      <td>3.285778e-01</td>\n",
              "      <td>6.705617e-01</td>\n",
              "      <td>5.439257e-01</td>\n",
              "      <td>4.070082e-01</td>\n",
              "      <td>7.805915e-01</td>\n",
              "      <td>9.829464e-01</td>\n",
              "      <td>3.951300e-01</td>\n",
              "      <td>2.049015e-01</td>\n",
              "      <td>1.806856e-01</td>\n",
              "    </tr>\n",
              "    <tr>\n",
              "      <th>max</th>\n",
              "      <td>2.370296e+00</td>\n",
              "      <td>1.330333e+00</td>\n",
              "      <td>1.512214e+00</td>\n",
              "      <td>2.518163e+00</td>\n",
              "      <td>1.034092e+00</td>\n",
              "      <td>1.721265e+00</td>\n",
              "      <td>1.996104e+00</td>\n",
              "      <td>1.528400e+00</td>\n",
              "      <td>2.064187e+00</td>\n",
              "      <td>2.345038e+00</td>\n",
              "      <td>2.764783e+00</td>\n",
              "      <td>2.409705e+00</td>\n",
              "    </tr>\n",
              "  </tbody>\n",
              "</table>\n",
              "</div>\n",
              "    <div class=\"colab-df-buttons\">\n",
              "\n",
              "  <div class=\"colab-df-container\">\n",
              "    <button class=\"colab-df-convert\" onclick=\"convertToInteractive('df-0bcd471a-1e8f-43b1-8950-1e9f42c781a2')\"\n",
              "            title=\"Convert this dataframe to an interactive table.\"\n",
              "            style=\"display:none;\">\n",
              "\n",
              "  <svg xmlns=\"http://www.w3.org/2000/svg\" height=\"24px\" viewBox=\"0 -960 960 960\">\n",
              "    <path d=\"M120-120v-720h720v720H120Zm60-500h600v-160H180v160Zm220 220h160v-160H400v160Zm0 220h160v-160H400v160ZM180-400h160v-160H180v160Zm440 0h160v-160H620v160ZM180-180h160v-160H180v160Zm440 0h160v-160H620v160Z\"/>\n",
              "  </svg>\n",
              "    </button>\n",
              "\n",
              "  <style>\n",
              "    .colab-df-container {\n",
              "      display:flex;\n",
              "      gap: 12px;\n",
              "    }\n",
              "\n",
              "    .colab-df-convert {\n",
              "      background-color: #E8F0FE;\n",
              "      border: none;\n",
              "      border-radius: 50%;\n",
              "      cursor: pointer;\n",
              "      display: none;\n",
              "      fill: #1967D2;\n",
              "      height: 32px;\n",
              "      padding: 0 0 0 0;\n",
              "      width: 32px;\n",
              "    }\n",
              "\n",
              "    .colab-df-convert:hover {\n",
              "      background-color: #E2EBFA;\n",
              "      box-shadow: 0px 1px 2px rgba(60, 64, 67, 0.3), 0px 1px 3px 1px rgba(60, 64, 67, 0.15);\n",
              "      fill: #174EA6;\n",
              "    }\n",
              "\n",
              "    .colab-df-buttons div {\n",
              "      margin-bottom: 4px;\n",
              "    }\n",
              "\n",
              "    [theme=dark] .colab-df-convert {\n",
              "      background-color: #3B4455;\n",
              "      fill: #D2E3FC;\n",
              "    }\n",
              "\n",
              "    [theme=dark] .colab-df-convert:hover {\n",
              "      background-color: #434B5C;\n",
              "      box-shadow: 0px 1px 3px 1px rgba(0, 0, 0, 0.15);\n",
              "      filter: drop-shadow(0px 1px 2px rgba(0, 0, 0, 0.3));\n",
              "      fill: #FFFFFF;\n",
              "    }\n",
              "  </style>\n",
              "\n",
              "    <script>\n",
              "      const buttonEl =\n",
              "        document.querySelector('#df-0bcd471a-1e8f-43b1-8950-1e9f42c781a2 button.colab-df-convert');\n",
              "      buttonEl.style.display =\n",
              "        google.colab.kernel.accessAllowed ? 'block' : 'none';\n",
              "\n",
              "      async function convertToInteractive(key) {\n",
              "        const element = document.querySelector('#df-0bcd471a-1e8f-43b1-8950-1e9f42c781a2');\n",
              "        const dataTable =\n",
              "          await google.colab.kernel.invokeFunction('convertToInteractive',\n",
              "                                                    [key], {});\n",
              "        if (!dataTable) return;\n",
              "\n",
              "        const docLinkHtml = 'Like what you see? Visit the ' +\n",
              "          '<a target=\"_blank\" href=https://colab.research.google.com/notebooks/data_table.ipynb>data table notebook</a>'\n",
              "          + ' to learn more about interactive tables.';\n",
              "        element.innerHTML = '';\n",
              "        dataTable['output_type'] = 'display_data';\n",
              "        await google.colab.output.renderOutput(dataTable, element);\n",
              "        const docLink = document.createElement('div');\n",
              "        docLink.innerHTML = docLinkHtml;\n",
              "        element.appendChild(docLink);\n",
              "      }\n",
              "    </script>\n",
              "  </div>\n",
              "\n",
              "\n",
              "    <div id=\"df-ff474439-680b-448c-bb2d-15b6e39fe779\">\n",
              "      <button class=\"colab-df-quickchart\" onclick=\"quickchart('df-ff474439-680b-448c-bb2d-15b6e39fe779')\"\n",
              "                title=\"Suggest charts\"\n",
              "                style=\"display:none;\">\n",
              "\n",
              "<svg xmlns=\"http://www.w3.org/2000/svg\" height=\"24px\"viewBox=\"0 0 24 24\"\n",
              "     width=\"24px\">\n",
              "    <g>\n",
              "        <path d=\"M19 3H5c-1.1 0-2 .9-2 2v14c0 1.1.9 2 2 2h14c1.1 0 2-.9 2-2V5c0-1.1-.9-2-2-2zM9 17H7v-7h2v7zm4 0h-2V7h2v10zm4 0h-2v-4h2v4z\"/>\n",
              "    </g>\n",
              "</svg>\n",
              "      </button>\n",
              "\n",
              "<style>\n",
              "  .colab-df-quickchart {\n",
              "      --bg-color: #E8F0FE;\n",
              "      --fill-color: #1967D2;\n",
              "      --hover-bg-color: #E2EBFA;\n",
              "      --hover-fill-color: #174EA6;\n",
              "      --disabled-fill-color: #AAA;\n",
              "      --disabled-bg-color: #DDD;\n",
              "  }\n",
              "\n",
              "  [theme=dark] .colab-df-quickchart {\n",
              "      --bg-color: #3B4455;\n",
              "      --fill-color: #D2E3FC;\n",
              "      --hover-bg-color: #434B5C;\n",
              "      --hover-fill-color: #FFFFFF;\n",
              "      --disabled-bg-color: #3B4455;\n",
              "      --disabled-fill-color: #666;\n",
              "  }\n",
              "\n",
              "  .colab-df-quickchart {\n",
              "    background-color: var(--bg-color);\n",
              "    border: none;\n",
              "    border-radius: 50%;\n",
              "    cursor: pointer;\n",
              "    display: none;\n",
              "    fill: var(--fill-color);\n",
              "    height: 32px;\n",
              "    padding: 0;\n",
              "    width: 32px;\n",
              "  }\n",
              "\n",
              "  .colab-df-quickchart:hover {\n",
              "    background-color: var(--hover-bg-color);\n",
              "    box-shadow: 0 1px 2px rgba(60, 64, 67, 0.3), 0 1px 3px 1px rgba(60, 64, 67, 0.15);\n",
              "    fill: var(--button-hover-fill-color);\n",
              "  }\n",
              "\n",
              "  .colab-df-quickchart-complete:disabled,\n",
              "  .colab-df-quickchart-complete:disabled:hover {\n",
              "    background-color: var(--disabled-bg-color);\n",
              "    fill: var(--disabled-fill-color);\n",
              "    box-shadow: none;\n",
              "  }\n",
              "\n",
              "  .colab-df-spinner {\n",
              "    border: 2px solid var(--fill-color);\n",
              "    border-color: transparent;\n",
              "    border-bottom-color: var(--fill-color);\n",
              "    animation:\n",
              "      spin 1s steps(1) infinite;\n",
              "  }\n",
              "\n",
              "  @keyframes spin {\n",
              "    0% {\n",
              "      border-color: transparent;\n",
              "      border-bottom-color: var(--fill-color);\n",
              "      border-left-color: var(--fill-color);\n",
              "    }\n",
              "    20% {\n",
              "      border-color: transparent;\n",
              "      border-left-color: var(--fill-color);\n",
              "      border-top-color: var(--fill-color);\n",
              "    }\n",
              "    30% {\n",
              "      border-color: transparent;\n",
              "      border-left-color: var(--fill-color);\n",
              "      border-top-color: var(--fill-color);\n",
              "      border-right-color: var(--fill-color);\n",
              "    }\n",
              "    40% {\n",
              "      border-color: transparent;\n",
              "      border-right-color: var(--fill-color);\n",
              "      border-top-color: var(--fill-color);\n",
              "    }\n",
              "    60% {\n",
              "      border-color: transparent;\n",
              "      border-right-color: var(--fill-color);\n",
              "    }\n",
              "    80% {\n",
              "      border-color: transparent;\n",
              "      border-right-color: var(--fill-color);\n",
              "      border-bottom-color: var(--fill-color);\n",
              "    }\n",
              "    90% {\n",
              "      border-color: transparent;\n",
              "      border-bottom-color: var(--fill-color);\n",
              "    }\n",
              "  }\n",
              "</style>\n",
              "\n",
              "      <script>\n",
              "        async function quickchart(key) {\n",
              "          const quickchartButtonEl =\n",
              "            document.querySelector('#' + key + ' button');\n",
              "          quickchartButtonEl.disabled = true;  // To prevent multiple clicks.\n",
              "          quickchartButtonEl.classList.add('colab-df-spinner');\n",
              "          try {\n",
              "            const charts = await google.colab.kernel.invokeFunction(\n",
              "                'suggestCharts', [key], {});\n",
              "          } catch (error) {\n",
              "            console.error('Error during call to suggestCharts:', error);\n",
              "          }\n",
              "          quickchartButtonEl.classList.remove('colab-df-spinner');\n",
              "          quickchartButtonEl.classList.add('colab-df-quickchart-complete');\n",
              "        }\n",
              "        (() => {\n",
              "          let quickchartButtonEl =\n",
              "            document.querySelector('#df-ff474439-680b-448c-bb2d-15b6e39fe779 button');\n",
              "          quickchartButtonEl.style.display =\n",
              "            google.colab.kernel.accessAllowed ? 'block' : 'none';\n",
              "        })();\n",
              "      </script>\n",
              "    </div>\n",
              "    </div>\n",
              "  </div>\n"
            ],
            "application/vnd.google.colaboratory.intrinsic+json": {
              "type": "dataframe",
              "summary": "{\n  \"name\": \"pd\",\n  \"rows\": 8,\n  \"fields\": [\n    {\n      \"column\": 0,\n      \"properties\": {\n        \"dtype\": \"number\",\n        \"std\": 3.937950569986903,\n        \"min\": -1.0494663034723668,\n        \"max\": 11.0,\n        \"num_unique_values\": 8,\n        \"samples\": [\n          -5.046468293750712e-16,\n          -0.04151049277057879,\n          11.0\n        ],\n        \"semantic_type\": \"\",\n        \"description\": \"\"\n      }\n    },\n    {\n      \"column\": 1,\n      \"properties\": {\n        \"dtype\": \"number\",\n        \"std\": 3.9556114125780364,\n        \"min\": -1.6383116678331688,\n        \"max\": 11.0,\n        \"num_unique_values\": 8,\n        \"samples\": [\n          -5.652044489000797e-16,\n          0.16802247535175083,\n          11.0\n        ],\n        \"semantic_type\": \"\",\n        \"description\": \"\"\n      }\n    },\n    {\n      \"column\": 2,\n      \"properties\": {\n        \"dtype\": \"number\",\n        \"std\": 3.956303966485685,\n        \"min\": -1.2953342826038459,\n        \"max\": 11.0,\n        \"num_unique_values\": 8,\n        \"samples\": [\n          1.766263902812749e-16,\n          -0.3081572453211517,\n          11.0\n        ],\n        \"semantic_type\": \"\",\n        \"description\": \"\"\n      }\n    },\n    {\n      \"column\": 3,\n      \"properties\": {\n        \"dtype\": \"number\",\n        \"std\": 3.970012621763537,\n        \"min\": -1.2795133577259539,\n        \"max\": 11.0,\n        \"num_unique_values\": 8,\n        \"samples\": [\n          -2.0185873175002846e-16,\n          -0.2961799441688245,\n          11.0\n        ],\n        \"semantic_type\": \"\",\n        \"description\": \"\"\n      }\n    },\n    {\n      \"column\": 4,\n      \"properties\": {\n        \"dtype\": \"number\",\n        \"std\": 4.003355996971575,\n        \"min\": -2.2306549506523607,\n        \"max\": 11.0,\n        \"num_unique_values\": 8,\n        \"samples\": [\n          1.6199163222939785e-15,\n          0.32344661173164946,\n          11.0\n        ],\n        \"semantic_type\": \"\",\n        \"description\": \"\"\n      }\n    },\n    {\n      \"column\": 5,\n      \"properties\": {\n        \"dtype\": \"number\",\n        \"std\": 3.9627187877697385,\n        \"min\": -1.3716896713135944,\n        \"max\": 11.0,\n        \"num_unique_values\": 8,\n        \"samples\": [\n          -1.4130111222501992e-16,\n          0.026807083567614534,\n          11.0\n        ],\n        \"semantic_type\": \"\",\n        \"description\": \"\"\n      }\n    },\n    {\n      \"column\": 6,\n      \"properties\": {\n        \"dtype\": \"number\",\n        \"std\": 3.9617365382629446,\n        \"min\": -1.3436085516946645,\n        \"max\": 11.0,\n        \"num_unique_values\": 8,\n        \"samples\": [\n          -1.8167285857502563e-16,\n          0.15207419688717436,\n          11.0\n        ],\n        \"semantic_type\": \"\",\n        \"description\": \"\"\n      }\n    },\n    {\n      \"column\": 7,\n      \"properties\": {\n        \"dtype\": \"number\",\n        \"std\": 3.9992725355005643,\n        \"min\": -1.9090270140625063,\n        \"max\": 11.0,\n        \"num_unique_values\": 8,\n        \"samples\": [\n          3.1792750250629484e-16,\n          -0.09434467320388243,\n          11.0\n        ],\n        \"semantic_type\": \"\",\n        \"description\": \"\"\n      }\n    },\n    {\n      \"column\": 8,\n      \"properties\": {\n        \"dtype\": \"number\",\n        \"std\": 3.9563345241604546,\n        \"min\": -1.1795356492391758,\n        \"max\": 11.0,\n        \"num_unique_values\": 7,\n        \"samples\": [\n          11.0,\n          5.046468293750712e-16,\n          0.9829463743659812\n        ],\n        \"semantic_type\": \"\",\n        \"description\": \"\"\n      }\n    },\n    {\n      \"column\": 9,\n      \"properties\": {\n        \"dtype\": \"number\",\n        \"std\": 3.935794375289748,\n        \"min\": -0.9229621401287313,\n        \"max\": 11.0,\n        \"num_unique_values\": 8,\n        \"samples\": [\n          -5.197862342563233e-16,\n          -0.07328221934929437,\n          11.0\n        ],\n        \"semantic_type\": \"\",\n        \"description\": \"\"\n      }\n    },\n    {\n      \"column\": 10,\n      \"properties\": {\n        \"dtype\": \"number\",\n        \"std\": 3.97470397634413,\n        \"min\": -1.1923243462569015,\n        \"max\": 11.0,\n        \"num_unique_values\": 8,\n        \"samples\": [\n          -4.5418214643756407e-17,\n          -0.2744384315045567,\n          11.0\n        ],\n        \"semantic_type\": \"\",\n        \"description\": \"\"\n      }\n    },\n    {\n      \"column\": 11,\n      \"properties\": {\n        \"dtype\": \"number\",\n        \"std\": 3.960384050316303,\n        \"min\": -1.379627793167941,\n        \"max\": 11.0,\n        \"num_unique_values\": 8,\n        \"samples\": [\n          -3.608224830031759e-16,\n          0.14353616285968543,\n          11.0\n        ],\n        \"semantic_type\": \"\",\n        \"description\": \"\"\n      }\n    }\n  ]\n}"
            }
          },
          "metadata": {},
          "execution_count": 3
        }
      ]
    },
    {
      "cell_type": "code",
      "source": [
        "import matplotlib.pyplot as plt\n",
        "import numpy as np\n",
        "from scipy.cluster.hierarchy import dendrogram\n",
        "from sklearn.cluster import KMeans\n",
        "from sklearn.cluster import AffinityPropagation\n",
        "from sklearn.cluster import MeanShift\n",
        "from sklearn.cluster import OPTICS\n",
        "from sklearn.cluster import SpectralClustering\n",
        "from sklearn.cluster import AgglomerativeClustering\n",
        "from sklearn.metrics import silhouette_score#The best value is 1 and the worst value is -1. Values near 0 indicate overlapping clusters.\n",
        "from sklearn.metrics import davies_bouldin_score#The minimum score is zero, with lower values indicating better clustering\n",
        "from sklearn.metrics import calinski_harabasz_score #If you're comparing two clustering results for the same dataset with 11 samples, the one with the higher CH score is generally considered superior."
      ],
      "metadata": {
        "id": "ZRaMJybPpaoB"
      },
      "execution_count": 9,
      "outputs": []
    },
    {
      "cell_type": "code",
      "source": [
        "# defining the kmeans function with initialization as k-means++\n",
        "kmeans = KMeans(n_clusters=3, init='k-means++')\n",
        "\n",
        "# fitting the k means algorithm on scaled data\n",
        "kmeans.fit(data_scaled)\n",
        "labels = kmeans.labels_\n",
        "print(labels)\n",
        "print(kmeans.cluster_centers_)\n",
        "y_kmeans = kmeans.predict(data_scaled)\n",
        "fh,fv=1,3\n",
        "plt.figure(figsize=(8, 6))\n",
        "plt.scatter(data_scaled[:, fh], data_scaled[:, fv], c=y_kmeans, s=50, cmap='viridis', alpha=0.7)\n",
        "\n",
        "centers = kmeans.cluster_centers_\n",
        "plt.scatter(centers[:, fh], centers[:, fv], c='black', s=200, alpha=0.9, marker='X')\n",
        "\n",
        "plt.title('K-Means Clustering')\n",
        "plt.xlabel(f'd{fh*4}')\n",
        "plt.ylabel(f'd{fv*4}')\n",
        "plt.legend()\n",
        "plt.grid(True)\n",
        "plt.show()\n",
        "sil= silhouette_score(data_scaled, labels)\n",
        "print(f\"silhouette_score:{sil}\")\n",
        "dbs= davies_bouldin_score(data_scaled, labels)\n",
        "print(f\"davies_bouldin_score:{dbs}\")\n",
        "chs = calinski_harabasz_score(data_scaled, labels)\n",
        "print(f\"calinski_harabasz_score:{chs}\")\n",
        "silm= silhouette_score(data_scaled, labels,metric='manhattan')\n",
        "print(f\"silhouette_score_manhattan:{silm}\")\n"
      ],
      "metadata": {
        "id": "3yUvvqyHxH7c",
        "colab": {
          "base_uri": "https://localhost:8080/",
          "height": 810
        },
        "outputId": "aab5d474-2de3-459c-bed4-9297fcc87626"
      },
      "execution_count": 19,
      "outputs": [
        {
          "output_type": "stream",
          "name": "stdout",
          "text": [
            "[2 2 0 0 2 0 2 2 0 1 2]\n",
            "[[ 0.65980782 -0.35716381 -0.11040543 -0.68335373  0.01737659 -0.58950718\n",
            "   0.02124234  0.44532391  0.57748099 -0.35106219 -0.47331371 -0.50195154]\n",
            " [-1.0494663   1.33033256  1.40674645  2.51816252  0.54625855  1.59225508\n",
            "   1.99610404  1.52840011  2.06418739  2.34503756  2.7647828   2.40970462]\n",
            " [-0.26496083  0.01638711 -0.16085412  0.0358754  -0.10262749  0.12762894\n",
            "  -0.34684556 -0.55161596 -0.72901856 -0.15679813 -0.14525466 -0.06698308]]\n"
          ]
        },
        {
          "output_type": "stream",
          "name": "stderr",
          "text": [
            "/tmp/ipython-input-19-2849313449.py:20: UserWarning: No artists with labels found to put in legend.  Note that artists whose label start with an underscore are ignored when legend() is called with no argument.\n",
            "  plt.legend()\n"
          ]
        },
        {
          "output_type": "display_data",
          "data": {
            "text/plain": [
              "<Figure size 800x600 with 1 Axes>"
            ],
            "image/png": "[encoded data removed]"
          },
          "metadata": {}
        },
        {
          "output_type": "stream",
          "name": "stdout",
          "text": [
            "silhouette_score:0.08777629204706475\n",
            "davies_bouldin_score:1.6739058026840858\n",
            "calinski_harabasz_score:3.3769459286940458\n",
            "silhouette_score_manhattan:0.11030058285039802\n"
          ]
        }
      ]
    },
    {
      "cell_type": "code",
      "source": [
        "af = AffinityPropagation(preference=-50, random_state=0).fit(data_scaled)\n",
        "\n",
        "# Get cluster centers and labels\n",
        "cluster_centers_indices = af.cluster_centers_indices_\n",
        "labels = af.labels_\n",
        "\n",
        "print(f\"Cluster centers indices: {cluster_centers_indices}\")\n",
        "print(f\"Labels: {labels}\")\n",
        "sil= silhouette_score(data_scaled, labels)\n",
        "print(f\"silhouette_score:{sil}\")\n",
        "dbs= davies_bouldin_score(data_scaled, labels)\n",
        "print(f\"davies_bouldin_score:{dbs}\")\n",
        "chs = calinski_harabasz_score(data_scaled, labels)\n",
        "print(f\"calinski_harabasz_score:{chs}\")"
      ],
      "metadata": {
        "colab": {
          "base_uri": "https://localhost:8080/"
        },
        "outputId": "f8a3449e-873c-419d-836e-643bff3f48e8",
        "id": "REOtT6SoASw4"
      },
      "execution_count": null,
      "outputs": [
        {
          "output_type": "stream",
          "name": "stdout",
          "text": [
            "Cluster centers indices: [ 9 10]\n",
            "Labels: [1 1 1 1 1 1 1 1 1 0 1]\n",
            "silhouette_score:0.40618025919541123\n",
            "davies_bouldin_score:0.3859381291587357\n",
            "calinski_harabasz_score:5.1280124366254025\n"
          ]
        }
      ]
    },
    {
      "cell_type": "code",
      "source": [
        "ms = MeanShift()\n",
        "ms.fit(data_scaled)\n",
        "cluster_centers = ms.cluster_centers_\n",
        "labels = ms.labels_\n",
        "print(f\"Cluster centers indices: {cluster_centers}\")\n",
        "print(f\"Labels: {labels}\")\n",
        "sil= silhouette_score(data_scaled, labels)\n",
        "print(f\"silhouette_score:{sil}\")\n",
        "dbs= davies_bouldin_score(data_scaled, labels)\n",
        "print(f\"davies_bouldin_score:{dbs}\")\n",
        "chs = calinski_harabasz_score(data_scaled, labels)\n",
        "print(f\"calinski_harabasz_score:{chs}\")"
      ],
      "metadata": {
        "colab": {
          "base_uri": "https://localhost:8080/"
        },
        "id": "Y5VGNcQiR8-y",
        "outputId": "33b9a044-ba14-435b-ab21-51209edb0fb7"
      },
      "execution_count": null,
      "outputs": [
        {
          "output_type": "stream",
          "name": "stdout",
          "text": [
            "Cluster centers indices: [[-0.07065619 -0.17149581 -0.20611731 -0.13898222  0.11119145 -0.03092156\n",
            "  -0.42744896 -0.47468857 -0.30102733 -0.34016913 -0.33053159 -0.29065899]\n",
            " [ 2.37029586  1.28739762  1.51221409 -0.12679141  0.79486481  0.02680708\n",
            "   1.27141345  1.144525   -0.63891514  1.23391766  0.4598703   1.0165677 ]\n",
            " [-0.75558005 -1.24576367 -1.27002205 -1.27951336 -2.23065495 -1.37168967\n",
            "   0.1520742   1.12458344  0.98294637 -0.85760215 -0.5804004  -1.10100041]\n",
            " [-1.0494663   1.33033256  1.40674645  2.51816252  0.54625855  1.59225508\n",
            "   1.99610404  1.52840011  2.06418739  2.34503756  2.7647828   2.40970462]]\n",
            "Labels: [0 0 2 1 0 0 0 0 0 3 0]\n",
            "silhouette_score:0.12031351821962812\n",
            "davies_bouldin_score:0.5019184845458436\n",
            "calinski_harabasz_score:4.080552971379937\n"
          ]
        }
      ]
    },
    {
      "cell_type": "code",
      "source": [
        "optics_model = OPTICS(cluster_method='xi')\n",
        "optics_model.fit(data_scaled)\n",
        "labels = optics_model.labels_\n",
        "print(f\"Labels: {labels}\")\n",
        "sil= silhouette_score(data_scaled, labels)\n",
        "print(f\"silhouette_score:{sil}\")\n",
        "dbs= davies_bouldin_score(data_scaled, labels)\n",
        "print(f\"davies_bouldin_score:{dbs}\")\n",
        "chs = calinski_harabasz_score(data_scaled, labels)\n",
        "print(f\"calinski_harabasz_score:{chs}\")"
      ],
      "metadata": {
        "colab": {
          "base_uri": "https://localhost:8080/",
          "height": 373
        },
        "id": "6BBDVy-KTQc5",
        "outputId": "431ce2f8-5537-4a27-e568-7de9d3bc9f99"
      },
      "execution_count": null,
      "outputs": [
        {
          "output_type": "stream",
          "name": "stdout",
          "text": [
            "Labels: [0 0 0 0 0 0 0 0 0 0 0]\n"
          ]
        },
        {
          "output_type": "error",
          "ename": "ValueError",
          "evalue": "Number of labels is 1. Valid values are 2 to n_samples - 1 (inclusive)",
          "traceback": [
            "\u001b[0;31m---------------------------------------------------------------------------\u001b[0m",
            "\u001b[0;31mValueError\u001b[0m                                Traceback (most recent call last)",
            "\u001b[0;32m/tmp/ipython-input-43-1758620757.py\u001b[0m in \u001b[0;36m<cell line: 0>\u001b[0;34m()\u001b[0m\n\u001b[1;32m      3\u001b[0m \u001b[0mlabels\u001b[0m \u001b[0;34m=\u001b[0m \u001b[0moptics_model\u001b[0m\u001b[0;34m.\u001b[0m\u001b[0mlabels_\u001b[0m\u001b[0;34m\u001b[0m\u001b[0;34m\u001b[0m\u001b[0m\n\u001b[1;32m      4\u001b[0m \u001b[0mprint\u001b[0m\u001b[0;34m(\u001b[0m\u001b[0;34mf\"Labels: {labels}\"\u001b[0m\u001b[0;34m)\u001b[0m\u001b[0;34m\u001b[0m\u001b[0;34m\u001b[0m\u001b[0m\n\u001b[0;32m----> 5\u001b[0;31m \u001b[0msil\u001b[0m\u001b[0;34m=\u001b[0m \u001b[0msilhouette_score\u001b[0m\u001b[0;34m(\u001b[0m\u001b[0mdata_scaled\u001b[0m\u001b[0;34m,\u001b[0m \u001b[0mlabels\u001b[0m\u001b[0;34m)\u001b[0m\u001b[0;34m\u001b[0m\u001b[0;34m\u001b[0m\u001b[0m\n\u001b[0m\u001b[1;32m      6\u001b[0m \u001b[0mprint\u001b[0m\u001b[0;34m(\u001b[0m\u001b[0;34mf\"silhouette_score:{sil}\"\u001b[0m\u001b[0;34m)\u001b[0m\u001b[0;34m\u001b[0m\u001b[0;34m\u001b[0m\u001b[0m\n\u001b[1;32m      7\u001b[0m \u001b[0mdbs\u001b[0m\u001b[0;34m=\u001b[0m \u001b[0mdavies_bouldin_score\u001b[0m\u001b[0;34m(\u001b[0m\u001b[0mdata_scaled\u001b[0m\u001b[0;34m,\u001b[0m \u001b[0mlabels\u001b[0m\u001b[0;34m)\u001b[0m\u001b[0;34m\u001b[0m\u001b[0;34m\u001b[0m\u001b[0m\n",
            "\u001b[0;32m/usr/local/lib/python3.11/dist-packages/sklearn/utils/_param_validation.py\u001b[0m in \u001b[0;36mwrapper\u001b[0;34m(*args, **kwargs)\u001b[0m\n\u001b[1;32m    214\u001b[0m                     )\n\u001b[1;32m    215\u001b[0m                 ):\n\u001b[0;32m--> 216\u001b[0;31m                     \u001b[0;32mreturn\u001b[0m \u001b[0mfunc\u001b[0m\u001b[0;34m(\u001b[0m\u001b[0;34m*\u001b[0m\u001b[0margs\u001b[0m\u001b[0;34m,\u001b[0m \u001b[0;34m**\u001b[0m\u001b[0mkwargs\u001b[0m\u001b[0;34m)\u001b[0m\u001b[0;34m\u001b[0m\u001b[0;34m\u001b[0m\u001b[0m\n\u001b[0m\u001b[1;32m    217\u001b[0m             \u001b[0;32mexcept\u001b[0m \u001b[0mInvalidParameterError\u001b[0m \u001b[0;32mas\u001b[0m \u001b[0me\u001b[0m\u001b[0;34m:\u001b[0m\u001b[0;34m\u001b[0m\u001b[0;34m\u001b[0m\u001b[0m\n\u001b[1;32m    218\u001b[0m                 \u001b[0;31m# When the function is just a wrapper around an estimator, we allow\u001b[0m\u001b[0;34m\u001b[0m\u001b[0;34m\u001b[0m\u001b[0m\n",
            "\u001b[0;32m/usr/local/lib/python3.11/dist-packages/sklearn/metrics/cluster/_unsupervised.py\u001b[0m in \u001b[0;36msilhouette_score\u001b[0;34m(X, labels, metric, sample_size, random_state, **kwds)\u001b[0m\n\u001b[1;32m    137\u001b[0m         \u001b[0;32melse\u001b[0m\u001b[0;34m:\u001b[0m\u001b[0;34m\u001b[0m\u001b[0;34m\u001b[0m\u001b[0m\n\u001b[1;32m    138\u001b[0m             \u001b[0mX\u001b[0m\u001b[0;34m,\u001b[0m \u001b[0mlabels\u001b[0m \u001b[0;34m=\u001b[0m \u001b[0mX\u001b[0m\u001b[0;34m[\u001b[0m\u001b[0mindices\u001b[0m\u001b[0;34m]\u001b[0m\u001b[0;34m,\u001b[0m \u001b[0mlabels\u001b[0m\u001b[0;34m[\u001b[0m\u001b[0mindices\u001b[0m\u001b[0;34m]\u001b[0m\u001b[0;34m\u001b[0m\u001b[0;34m\u001b[0m\u001b[0m\n\u001b[0;32m--> 139\u001b[0;31m     \u001b[0;32mreturn\u001b[0m \u001b[0mnp\u001b[0m\u001b[0;34m.\u001b[0m\u001b[0mmean\u001b[0m\u001b[0;34m(\u001b[0m\u001b[0msilhouette_samples\u001b[0m\u001b[0;34m(\u001b[0m\u001b[0mX\u001b[0m\u001b[0;34m,\u001b[0m \u001b[0mlabels\u001b[0m\u001b[0;34m,\u001b[0m \u001b[0mmetric\u001b[0m\u001b[0;34m=\u001b[0m\u001b[0mmetric\u001b[0m\u001b[0;34m,\u001b[0m \u001b[0;34m**\u001b[0m\u001b[0mkwds\u001b[0m\u001b[0;34m)\u001b[0m\u001b[0;34m)\u001b[0m\u001b[0;34m\u001b[0m\u001b[0;34m\u001b[0m\u001b[0m\n\u001b[0m\u001b[1;32m    140\u001b[0m \u001b[0;34m\u001b[0m\u001b[0m\n\u001b[1;32m    141\u001b[0m \u001b[0;34m\u001b[0m\u001b[0m\n",
            "\u001b[0;32m/usr/local/lib/python3.11/dist-packages/sklearn/utils/_param_validation.py\u001b[0m in \u001b[0;36mwrapper\u001b[0;34m(*args, **kwargs)\u001b[0m\n\u001b[1;32m    187\u001b[0m             \u001b[0mglobal_skip_validation\u001b[0m \u001b[0;34m=\u001b[0m \u001b[0mget_config\u001b[0m\u001b[0;34m(\u001b[0m\u001b[0;34m)\u001b[0m\u001b[0;34m[\u001b[0m\u001b[0;34m\"skip_parameter_validation\"\u001b[0m\u001b[0;34m]\u001b[0m\u001b[0;34m\u001b[0m\u001b[0;34m\u001b[0m\u001b[0m\n\u001b[1;32m    188\u001b[0m             \u001b[0;32mif\u001b[0m \u001b[0mglobal_skip_validation\u001b[0m\u001b[0;34m:\u001b[0m\u001b[0;34m\u001b[0m\u001b[0;34m\u001b[0m\u001b[0m\n\u001b[0;32m--> 189\u001b[0;31m                 \u001b[0;32mreturn\u001b[0m \u001b[0mfunc\u001b[0m\u001b[0;34m(\u001b[0m\u001b[0;34m*\u001b[0m\u001b[0margs\u001b[0m\u001b[0;34m,\u001b[0m \u001b[0;34m**\u001b[0m\u001b[0mkwargs\u001b[0m\u001b[0;34m)\u001b[0m\u001b[0;34m\u001b[0m\u001b[0;34m\u001b[0m\u001b[0m\n\u001b[0m\u001b[1;32m    190\u001b[0m \u001b[0;34m\u001b[0m\u001b[0m\n\u001b[1;32m    191\u001b[0m             \u001b[0mfunc_sig\u001b[0m \u001b[0;34m=\u001b[0m \u001b[0msignature\u001b[0m\u001b[0;34m(\u001b[0m\u001b[0mfunc\u001b[0m\u001b[0;34m)\u001b[0m\u001b[0;34m\u001b[0m\u001b[0;34m\u001b[0m\u001b[0m\n",
            "\u001b[0;32m/usr/local/lib/python3.11/dist-packages/sklearn/metrics/cluster/_unsupervised.py\u001b[0m in \u001b[0;36msilhouette_samples\u001b[0;34m(X, labels, metric, **kwds)\u001b[0m\n\u001b[1;32m    295\u001b[0m     \u001b[0mn_samples\u001b[0m \u001b[0;34m=\u001b[0m \u001b[0mlen\u001b[0m\u001b[0;34m(\u001b[0m\u001b[0mlabels\u001b[0m\u001b[0;34m)\u001b[0m\u001b[0;34m\u001b[0m\u001b[0;34m\u001b[0m\u001b[0m\n\u001b[1;32m    296\u001b[0m     \u001b[0mlabel_freqs\u001b[0m \u001b[0;34m=\u001b[0m \u001b[0mnp\u001b[0m\u001b[0;34m.\u001b[0m\u001b[0mbincount\u001b[0m\u001b[0;34m(\u001b[0m\u001b[0mlabels\u001b[0m\u001b[0;34m)\u001b[0m\u001b[0;34m\u001b[0m\u001b[0;34m\u001b[0m\u001b[0m\n\u001b[0;32m--> 297\u001b[0;31m     \u001b[0mcheck_number_of_labels\u001b[0m\u001b[0;34m(\u001b[0m\u001b[0mlen\u001b[0m\u001b[0;34m(\u001b[0m\u001b[0mle\u001b[0m\u001b[0;34m.\u001b[0m\u001b[0mclasses_\u001b[0m\u001b[0;34m)\u001b[0m\u001b[0;34m,\u001b[0m \u001b[0mn_samples\u001b[0m\u001b[0;34m)\u001b[0m\u001b[0;34m\u001b[0m\u001b[0;34m\u001b[0m\u001b[0m\n\u001b[0m\u001b[1;32m    298\u001b[0m \u001b[0;34m\u001b[0m\u001b[0m\n\u001b[1;32m    299\u001b[0m     \u001b[0mkwds\u001b[0m\u001b[0;34m[\u001b[0m\u001b[0;34m\"metric\"\u001b[0m\u001b[0;34m]\u001b[0m \u001b[0;34m=\u001b[0m \u001b[0mmetric\u001b[0m\u001b[0;34m\u001b[0m\u001b[0;34m\u001b[0m\u001b[0m\n",
            "\u001b[0;32m/usr/local/lib/python3.11/dist-packages/sklearn/metrics/cluster/_unsupervised.py\u001b[0m in \u001b[0;36mcheck_number_of_labels\u001b[0;34m(n_labels, n_samples)\u001b[0m\n\u001b[1;32m     34\u001b[0m     \"\"\"\n\u001b[1;32m     35\u001b[0m     \u001b[0;32mif\u001b[0m \u001b[0;32mnot\u001b[0m \u001b[0;36m1\u001b[0m \u001b[0;34m<\u001b[0m \u001b[0mn_labels\u001b[0m \u001b[0;34m<\u001b[0m \u001b[0mn_samples\u001b[0m\u001b[0;34m:\u001b[0m\u001b[0;34m\u001b[0m\u001b[0;34m\u001b[0m\u001b[0m\n\u001b[0;32m---> 36\u001b[0;31m         raise ValueError(\n\u001b[0m\u001b[1;32m     37\u001b[0m             \u001b[0;34m\"Number of labels is %d. Valid values are 2 to n_samples - 1 (inclusive)\"\u001b[0m\u001b[0;34m\u001b[0m\u001b[0;34m\u001b[0m\u001b[0m\n\u001b[1;32m     38\u001b[0m             \u001b[0;34m%\u001b[0m \u001b[0mn_labels\u001b[0m\u001b[0;34m\u001b[0m\u001b[0;34m\u001b[0m\u001b[0m\n",
            "\u001b[0;31mValueError\u001b[0m: Number of labels is 1. Valid values are 2 to n_samples - 1 (inclusive)"
          ]
        }
      ]
    },
    {
      "cell_type": "code",
      "source": [
        "clustering = SpectralClustering(n_clusters=3,\n",
        "                                affinity='nearest_neighbors',\n",
        "                                random_state=0).fit(data_scaled)\n",
        "\n",
        "# Get the cluster labels for each data point\n",
        "labels = clustering.labels_\n",
        "\n",
        "print(labels)\n",
        "sil= silhouette_score(data_scaled, labels)\n",
        "print(f\"silhouette_score:{sil}\")\n",
        "dbs= davies_bouldin_score(data_scaled, labels)\n",
        "print(f\"davies_bouldin_score:{dbs}\")\n",
        "chs = calinski_harabasz_score(data_scaled, labels)\n",
        "print(f\"calinski_harabasz_score:{chs}\")"
      ],
      "metadata": {
        "colab": {
          "base_uri": "https://localhost:8080/"
        },
        "id": "jsRVepDBVRB-",
        "outputId": "29fadd9b-fd89-4fa2-a0b5-e7e1a051294e"
      },
      "execution_count": null,
      "outputs": [
        {
          "output_type": "stream",
          "name": "stdout",
          "text": [
            "[0 0 2 0 0 0 0 0 0 1 0]\n",
            "silhouette_score:0.14628766612313118\n",
            "davies_bouldin_score:0.537191628167562\n",
            "calinski_harabasz_score:3.8191785741179\n"
          ]
        }
      ]
    },
    {
      "cell_type": "code",
      "source": [],
      "metadata": {
        "id": "El91MpCxVhul"
      },
      "execution_count": null,
      "outputs": []
    },
    {
      "cell_type": "code",
      "source": [
        "clustering = SpectralClustering(n_clusters=3,\n",
        "                                affinity='rbf',\n",
        "                                random_state=0).fit(data_scaled)\n",
        "\n",
        "# Get the cluster labels for each data point\n",
        "labels = clustering.labels_\n",
        "\n",
        "print(labels)\n",
        "sil= silhouette_score(data_scaled, labels)\n",
        "print(f\"silhouette_score:{sil}\")\n",
        "dbs= davies_bouldin_score(data_scaled, labels)\n",
        "print(f\"davies_bouldin_score:{dbs}\")\n",
        "chs = calinski_harabasz_score(data_scaled, labels)\n",
        "print(f\"calinski_harabasz_score:{chs}\")"
      ],
      "metadata": {
        "colab": {
          "base_uri": "https://localhost:8080/"
        },
        "outputId": "061e852e-91f6-477c-95af-e63737f88b46",
        "id": "PMCTty5SViQa"
      },
      "execution_count": null,
      "outputs": [
        {
          "output_type": "stream",
          "name": "stdout",
          "text": [
            "[2 2 2 0 2 2 2 2 2 1 2]\n",
            "silhouette_score:0.20643597699301094\n",
            "davies_bouldin_score:0.47021044169361675\n",
            "calinski_harabasz_score:4.379164829641728\n"
          ]
        }
      ]
    },
    {
      "cell_type": "code",
      "source": [
        "def plot_dendrogram(model, **kwargs):\n",
        "    # Create linkage matrix and then plot the dendrogram\n",
        "\n",
        "    # create the counts of samples under each node\n",
        "    counts = np.zeros(model.children_.shape[0])\n",
        "    n_samples = len(model.labels_)\n",
        "    for i, merge in enumerate(model.children_):\n",
        "        current_count = 0\n",
        "        for child_idx in merge:\n",
        "            if child_idx < n_samples:\n",
        "                current_count += 1  # leaf node\n",
        "            else:\n",
        "                current_count += counts[child_idx - n_samples]\n",
        "        counts[i] = current_count\n",
        "\n",
        "    linkage_matrix = np.column_stack(\n",
        "        [model.children_, model.distances_, counts]\n",
        "    ).astype(float)\n",
        "\n",
        "    # Plot the corresponding dendrogram\n",
        "    dendrogram(linkage_matrix, **kwargs)\n",
        "\n",
        "agg= AgglomerativeClustering().fit(data_scaled)\n",
        "labels = agg.labels_\n",
        "print(labels)\n",
        "sil= silhouette_score(data_scaled, labels)\n",
        "print(f\"silhouette_score:{sil}\")\n",
        "dbs= davies_bouldin_score(data_scaled, labels)\n",
        "print(f\"davies_bouldin_score:{dbs}\")\n",
        "chs = calinski_harabasz_score(data_scaled, labels)\n",
        "print(f\"calinski_harabasz_score:{chs}\")\n",
        "agg2= AgglomerativeClustering(distance_threshold=0, n_clusters=None).fit(data_scaled)\n",
        "labels = agg2.labels_\n",
        "print(labels)\n",
        "plt.title(\"Hierarchical Clustering Dendrogram (4 levels)\")\n",
        "# plot the top three levels of the dendrogram\n",
        "plot_dendrogram(agg2, truncate_mode=\"level\", p=4)\n",
        "plt.xlabel(\"Number of points in node (or index of point if no parenthesis).\")\n",
        "plt.show()\n",
        "plt.title(\"Hierarchical Clustering Dendrogram (3 levels)\")\n",
        "# plot the top three levels of the dendrogram\n",
        "plot_dendrogram(agg2, truncate_mode=\"level\", p=3)\n",
        "plt.xlabel(\"Number of points in node (or index of point if no parenthesis).\")\n",
        "plt.show()"
      ],
      "metadata": {
        "colab": {
          "base_uri": "https://localhost:8080/",
          "height": 1000
        },
        "outputId": "5bcf0638-b777-4c5f-fc2a-6e23f4ac9e64",
        "id": "KSzlR9XIVr4K"
      },
      "execution_count": 23,
      "outputs": [
        {
          "output_type": "stream",
          "name": "stdout",
          "text": [
            "[0 0 0 0 0 0 0 0 0 1 0]\n",
            "silhouette_score:0.40618025919541123\n",
            "davies_bouldin_score:0.3859381291587357\n",
            "calinski_harabasz_score:5.1280124366254025\n",
            "[ 7 10  8  6  5  2  9  4  3  1  0]\n"
          ]
        },
        {
          "output_type": "display_data",
          "data": {
            "text/plain": [
              "<Figure size 640x480 with 1 Axes>"
            ],
            "image/png": "[encoded data removed]"
          },
          "metadata": {}
        },
        {
          "output_type": "display_data",
          "data": {
            "text/plain": [
              "<Figure size 640x480 with 1 Axes>"
            ],
            "image/png": "[encoded data removed]"
          },
          "metadata": {}
        }
      ]
    }
  ]
}